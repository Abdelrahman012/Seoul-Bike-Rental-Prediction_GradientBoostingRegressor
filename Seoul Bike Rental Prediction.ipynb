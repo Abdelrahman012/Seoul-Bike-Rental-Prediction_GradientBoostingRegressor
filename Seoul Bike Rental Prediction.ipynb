{
 "cells": [
  {
   "cell_type": "code",
   "execution_count": 1,
   "id": "fa88f737",
   "metadata": {
    "execution": {
     "iopub.execute_input": "2021-08-30T00:34:09.270184Z",
     "iopub.status.busy": "2021-08-30T00:34:09.269340Z",
     "iopub.status.idle": "2021-08-30T00:34:10.496165Z",
     "shell.execute_reply": "2021-08-30T00:34:10.495528Z",
     "shell.execute_reply.started": "2021-08-30T00:33:22.554964Z"
    },
    "papermill": {
     "duration": 1.258049,
     "end_time": "2021-08-30T00:34:10.496301",
     "exception": false,
     "start_time": "2021-08-30T00:34:09.238252",
     "status": "completed"
    },
    "tags": []
   },
   "outputs": [],
   "source": [
    "# imports\n",
    "import numpy as np \n",
    "import pandas as pd \n",
    "import matplotlib.pyplot as plt\n",
    "import seaborn as sns\n",
    "from scipy import stats\n",
    "from sklearn import preprocessing\n",
    "from sklearn.preprocessing import PolynomialFeatures, StandardScaler\n",
    "\n",
    "\n",
    "%matplotlib inline"
   ]
  },
  {
   "cell_type": "markdown",
   "id": "67753287",
   "metadata": {
    "_cell_guid": "b1076dfc-b9ad-4769-8c92-a6c4dae69d19",
    "_uuid": "8f2839f25d086af736a60e9eeb907d3b93b6e0e5",
    "papermill": {
     "duration": 0.026866,
     "end_time": "2021-08-30T00:34:10.551210",
     "exception": false,
     "start_time": "2021-08-30T00:34:10.524344",
     "status": "completed"
    },
    "tags": []
   },
   "source": [
    "# Get The Data"
   ]
  },
  {
   "cell_type": "code",
   "execution_count": 2,
   "id": "1322b834",
   "metadata": {
    "execution": {
     "iopub.execute_input": "2021-08-30T00:34:10.610588Z",
     "iopub.status.busy": "2021-08-30T00:34:10.610053Z",
     "iopub.status.idle": "2021-08-30T00:34:10.660314Z",
     "shell.execute_reply": "2021-08-30T00:34:10.659786Z",
     "shell.execute_reply.started": "2021-08-30T00:33:23.667560Z"
    },
    "papermill": {
     "duration": 0.082093,
     "end_time": "2021-08-30T00:34:10.660424",
     "exception": false,
     "start_time": "2021-08-30T00:34:10.578331",
     "status": "completed"
    },
    "tags": []
   },
   "outputs": [],
   "source": [
    "train_df = pd.read_csv('../input/seoul-bike-rental-ai-pro-iti/train.csv')\n",
    "test_df = pd.read_csv('../input/seoul-bike-rental-ai-pro-iti/test.csv')\n"
   ]
  },
  {
   "cell_type": "code",
   "execution_count": 3,
   "id": "8953542a",
   "metadata": {
    "execution": {
     "iopub.execute_input": "2021-08-30T00:34:10.726277Z",
     "iopub.status.busy": "2021-08-30T00:34:10.725626Z",
     "iopub.status.idle": "2021-08-30T00:34:10.753988Z",
     "shell.execute_reply": "2021-08-30T00:34:10.753525Z",
     "shell.execute_reply.started": "2021-08-30T00:33:23.735425Z"
    },
    "papermill": {
     "duration": 0.065992,
     "end_time": "2021-08-30T00:34:10.754102",
     "exception": false,
     "start_time": "2021-08-30T00:34:10.688110",
     "status": "completed"
    },
    "tags": []
   },
   "outputs": [
    {
     "data": {
      "text/html": [
       "<div>\n",
       "<style scoped>\n",
       "    .dataframe tbody tr th:only-of-type {\n",
       "        vertical-align: middle;\n",
       "    }\n",
       "\n",
       "    .dataframe tbody tr th {\n",
       "        vertical-align: top;\n",
       "    }\n",
       "\n",
       "    .dataframe thead th {\n",
       "        text-align: right;\n",
       "    }\n",
       "</style>\n",
       "<table border=\"1\" class=\"dataframe\">\n",
       "  <thead>\n",
       "    <tr style=\"text-align: right;\">\n",
       "      <th></th>\n",
       "      <th>ID</th>\n",
       "      <th>Date</th>\n",
       "      <th>y</th>\n",
       "      <th>Hour</th>\n",
       "      <th>Temperature(�C)</th>\n",
       "      <th>Humidity(%)</th>\n",
       "      <th>Wind speed (m/s)</th>\n",
       "      <th>Visibility (10m)</th>\n",
       "      <th>Dew point temperature(�C)</th>\n",
       "      <th>Solar Radiation (MJ/m2)</th>\n",
       "      <th>Rainfall(mm)</th>\n",
       "      <th>Snowfall (cm)</th>\n",
       "      <th>Seasons</th>\n",
       "      <th>Holiday</th>\n",
       "      <th>Functioning Day</th>\n",
       "    </tr>\n",
       "  </thead>\n",
       "  <tbody>\n",
       "    <tr>\n",
       "      <th>0</th>\n",
       "      <td>0</td>\n",
       "      <td>01/12/2017</td>\n",
       "      <td>254</td>\n",
       "      <td>0</td>\n",
       "      <td>-5.2</td>\n",
       "      <td>37</td>\n",
       "      <td>2.2</td>\n",
       "      <td>2000</td>\n",
       "      <td>-17.6</td>\n",
       "      <td>0.0</td>\n",
       "      <td>0.0</td>\n",
       "      <td>0.0</td>\n",
       "      <td>Winter</td>\n",
       "      <td>No Holiday</td>\n",
       "      <td>Yes</td>\n",
       "    </tr>\n",
       "    <tr>\n",
       "      <th>1</th>\n",
       "      <td>1</td>\n",
       "      <td>01/12/2017</td>\n",
       "      <td>204</td>\n",
       "      <td>1</td>\n",
       "      <td>-5.5</td>\n",
       "      <td>38</td>\n",
       "      <td>0.8</td>\n",
       "      <td>2000</td>\n",
       "      <td>-17.6</td>\n",
       "      <td>0.0</td>\n",
       "      <td>0.0</td>\n",
       "      <td>0.0</td>\n",
       "      <td>Winter</td>\n",
       "      <td>No Holiday</td>\n",
       "      <td>Yes</td>\n",
       "    </tr>\n",
       "    <tr>\n",
       "      <th>2</th>\n",
       "      <td>2</td>\n",
       "      <td>01/12/2017</td>\n",
       "      <td>173</td>\n",
       "      <td>2</td>\n",
       "      <td>-6.0</td>\n",
       "      <td>39</td>\n",
       "      <td>1.0</td>\n",
       "      <td>2000</td>\n",
       "      <td>-17.7</td>\n",
       "      <td>0.0</td>\n",
       "      <td>0.0</td>\n",
       "      <td>0.0</td>\n",
       "      <td>Winter</td>\n",
       "      <td>No Holiday</td>\n",
       "      <td>Yes</td>\n",
       "    </tr>\n",
       "    <tr>\n",
       "      <th>3</th>\n",
       "      <td>3</td>\n",
       "      <td>01/12/2017</td>\n",
       "      <td>107</td>\n",
       "      <td>3</td>\n",
       "      <td>-6.2</td>\n",
       "      <td>40</td>\n",
       "      <td>0.9</td>\n",
       "      <td>2000</td>\n",
       "      <td>-17.6</td>\n",
       "      <td>0.0</td>\n",
       "      <td>0.0</td>\n",
       "      <td>0.0</td>\n",
       "      <td>Winter</td>\n",
       "      <td>No Holiday</td>\n",
       "      <td>Yes</td>\n",
       "    </tr>\n",
       "    <tr>\n",
       "      <th>4</th>\n",
       "      <td>4</td>\n",
       "      <td>01/12/2017</td>\n",
       "      <td>78</td>\n",
       "      <td>4</td>\n",
       "      <td>-6.0</td>\n",
       "      <td>36</td>\n",
       "      <td>2.3</td>\n",
       "      <td>2000</td>\n",
       "      <td>-18.6</td>\n",
       "      <td>0.0</td>\n",
       "      <td>0.0</td>\n",
       "      <td>0.0</td>\n",
       "      <td>Winter</td>\n",
       "      <td>No Holiday</td>\n",
       "      <td>Yes</td>\n",
       "    </tr>\n",
       "  </tbody>\n",
       "</table>\n",
       "</div>"
      ],
      "text/plain": [
       "   ID        Date    y  Hour  Temperature(�C)  Humidity(%)  Wind speed (m/s)  \\\n",
       "0   0  01/12/2017  254     0             -5.2           37               2.2   \n",
       "1   1  01/12/2017  204     1             -5.5           38               0.8   \n",
       "2   2  01/12/2017  173     2             -6.0           39               1.0   \n",
       "3   3  01/12/2017  107     3             -6.2           40               0.9   \n",
       "4   4  01/12/2017   78     4             -6.0           36               2.3   \n",
       "\n",
       "   Visibility (10m)  Dew point temperature(�C)  Solar Radiation (MJ/m2)  \\\n",
       "0              2000                      -17.6                      0.0   \n",
       "1              2000                      -17.6                      0.0   \n",
       "2              2000                      -17.7                      0.0   \n",
       "3              2000                      -17.6                      0.0   \n",
       "4              2000                      -18.6                      0.0   \n",
       "\n",
       "   Rainfall(mm)  Snowfall (cm) Seasons     Holiday Functioning Day  \n",
       "0           0.0            0.0  Winter  No Holiday             Yes  \n",
       "1           0.0            0.0  Winter  No Holiday             Yes  \n",
       "2           0.0            0.0  Winter  No Holiday             Yes  \n",
       "3           0.0            0.0  Winter  No Holiday             Yes  \n",
       "4           0.0            0.0  Winter  No Holiday             Yes  "
      ]
     },
     "execution_count": 3,
     "metadata": {},
     "output_type": "execute_result"
    }
   ],
   "source": [
    "train_df.head()"
   ]
  },
  {
   "cell_type": "markdown",
   "id": "57bb8944",
   "metadata": {
    "papermill": {
     "duration": 0.027519,
     "end_time": "2021-08-30T00:34:10.810194",
     "exception": false,
     "start_time": "2021-08-30T00:34:10.782675",
     "status": "completed"
    },
    "tags": []
   },
   "source": [
    "# Data Exploration And EDA"
   ]
  },
  {
   "cell_type": "code",
   "execution_count": null,
   "id": "59b8abc5",
   "metadata": {
    "papermill": {
     "duration": 0.027425,
     "end_time": "2021-08-30T00:34:10.866131",
     "exception": false,
     "start_time": "2021-08-30T00:34:10.838706",
     "status": "completed"
    },
    "tags": []
   },
   "outputs": [],
   "source": []
  },
  {
   "cell_type": "code",
   "execution_count": 4,
   "id": "9a2c5c1d",
   "metadata": {
    "execution": {
     "iopub.execute_input": "2021-08-30T00:34:10.928508Z",
     "iopub.status.busy": "2021-08-30T00:34:10.927999Z",
     "iopub.status.idle": "2021-08-30T00:34:10.931710Z",
     "shell.execute_reply": "2021-08-30T00:34:10.931114Z",
     "shell.execute_reply.started": "2021-08-30T00:33:23.779934Z"
    },
    "papermill": {
     "duration": 0.037066,
     "end_time": "2021-08-30T00:34:10.931868",
     "exception": false,
     "start_time": "2021-08-30T00:34:10.894802",
     "status": "completed"
    },
    "tags": []
   },
   "outputs": [],
   "source": [
    "# adjusting column names of the train data\n",
    "col_names = ['ID', 'Date', 'y', 'Hour', 'Temperature', 'Humidity',\n",
    "       'Wind speed', 'Visibility', 'Dew point temperature',\n",
    "       'Solar Radiation', 'Rainfall', 'Snowfall', 'Seasons',\n",
    "       'Holiday', 'Functioning Day']\n",
    "train_df.columns = col_names"
   ]
  },
  {
   "cell_type": "code",
   "execution_count": 5,
   "id": "b2b1a8ea",
   "metadata": {
    "execution": {
     "iopub.execute_input": "2021-08-30T00:34:11.021954Z",
     "iopub.status.busy": "2021-08-30T00:34:11.021275Z",
     "iopub.status.idle": "2021-08-30T00:34:11.024560Z",
     "shell.execute_reply": "2021-08-30T00:34:11.025037Z",
     "shell.execute_reply.started": "2021-08-30T00:33:23.787711Z"
    },
    "papermill": {
     "duration": 0.050565,
     "end_time": "2021-08-30T00:34:11.025193",
     "exception": false,
     "start_time": "2021-08-30T00:34:10.974628",
     "status": "completed"
    },
    "tags": []
   },
   "outputs": [],
   "source": [
    "# adjusting column names of the test data\n",
    "col_names = ['ID', 'Date','Hour', 'Temperature', 'Humidity',\n",
    "       'Wind speed', 'Visibility', 'Dew point temperature',\n",
    "       'Solar Radiation', 'Rainfall', 'Snowfall', 'Seasons',\n",
    "       'Holiday', 'Functioning Day']\n",
    "test_df.columns = col_names"
   ]
  },
  {
   "cell_type": "code",
   "execution_count": null,
   "id": "e42951a9",
   "metadata": {
    "papermill": {
     "duration": 0.042597,
     "end_time": "2021-08-30T00:34:11.110826",
     "exception": false,
     "start_time": "2021-08-30T00:34:11.068229",
     "status": "completed"
    },
    "tags": []
   },
   "outputs": [],
   "source": []
  },
  {
   "cell_type": "code",
   "execution_count": null,
   "id": "7b9134e1",
   "metadata": {
    "papermill": {
     "duration": 0.042908,
     "end_time": "2021-08-30T00:34:11.196564",
     "exception": false,
     "start_time": "2021-08-30T00:34:11.153656",
     "status": "completed"
    },
    "tags": []
   },
   "outputs": [],
   "source": []
  },
  {
   "cell_type": "code",
   "execution_count": 6,
   "id": "d3547062",
   "metadata": {
    "execution": {
     "iopub.execute_input": "2021-08-30T00:34:11.294002Z",
     "iopub.status.busy": "2021-08-30T00:34:11.290396Z",
     "iopub.status.idle": "2021-08-30T00:34:11.304929Z",
     "shell.execute_reply": "2021-08-30T00:34:11.304436Z",
     "shell.execute_reply.started": "2021-08-30T00:33:23.801628Z"
    },
    "papermill": {
     "duration": 0.066159,
     "end_time": "2021-08-30T00:34:11.305035",
     "exception": false,
     "start_time": "2021-08-30T00:34:11.238876",
     "status": "completed"
    },
    "tags": []
   },
   "outputs": [],
   "source": [
    "# adjusting Date \n",
    "for data in [train_df, test_df] :\n",
    "    data['Date'] = pd.to_datetime(data['Date'])\n",
    "    #train_df['Month'] = train_df['Date'].dt.month.astype(int)\n",
    "    #train_df['Weekday'] = train_df['Date'].dt.dayofweek.astype(int)\n",
    "    data['Year'] = data['Date'].dt.year.astype(int)\n",
    "    #data['Month'] = data['Date'].dt.strftime('%B')\n",
    "    #data['Weekday'] = data['Date'].dt.strftime('%A')\n",
    "    data['Weekday'] = data['Date'].dt.dayofweek\n",
    "    data['Month'] = data['Date'].dt.month\n",
    "    #data['Year'] = data['Date'].dt.year"
   ]
  },
  {
   "cell_type": "code",
   "execution_count": 7,
   "id": "47e2ba33",
   "metadata": {
    "execution": {
     "iopub.execute_input": "2021-08-30T00:34:11.378064Z",
     "iopub.status.busy": "2021-08-30T00:34:11.370414Z",
     "iopub.status.idle": "2021-08-30T00:34:11.381351Z",
     "shell.execute_reply": "2021-08-30T00:34:11.380904Z",
     "shell.execute_reply.started": "2021-08-30T00:33:23.833261Z"
    },
    "papermill": {
     "duration": 0.048948,
     "end_time": "2021-08-30T00:34:11.381473",
     "exception": false,
     "start_time": "2021-08-30T00:34:11.332525",
     "status": "completed"
    },
    "tags": []
   },
   "outputs": [
    {
     "data": {
      "text/html": [
       "<div>\n",
       "<style scoped>\n",
       "    .dataframe tbody tr th:only-of-type {\n",
       "        vertical-align: middle;\n",
       "    }\n",
       "\n",
       "    .dataframe tbody tr th {\n",
       "        vertical-align: top;\n",
       "    }\n",
       "\n",
       "    .dataframe thead th {\n",
       "        text-align: right;\n",
       "    }\n",
       "</style>\n",
       "<table border=\"1\" class=\"dataframe\">\n",
       "  <thead>\n",
       "    <tr style=\"text-align: right;\">\n",
       "      <th></th>\n",
       "      <th>ID</th>\n",
       "      <th>Date</th>\n",
       "      <th>y</th>\n",
       "      <th>Hour</th>\n",
       "      <th>Temperature</th>\n",
       "      <th>Humidity</th>\n",
       "      <th>Wind speed</th>\n",
       "      <th>Visibility</th>\n",
       "      <th>Dew point temperature</th>\n",
       "      <th>Solar Radiation</th>\n",
       "      <th>Rainfall</th>\n",
       "      <th>Snowfall</th>\n",
       "      <th>Seasons</th>\n",
       "      <th>Holiday</th>\n",
       "      <th>Functioning Day</th>\n",
       "      <th>Year</th>\n",
       "      <th>Weekday</th>\n",
       "      <th>Month</th>\n",
       "    </tr>\n",
       "  </thead>\n",
       "  <tbody>\n",
       "    <tr>\n",
       "      <th>0</th>\n",
       "      <td>0</td>\n",
       "      <td>2017-01-12</td>\n",
       "      <td>254</td>\n",
       "      <td>0</td>\n",
       "      <td>-5.2</td>\n",
       "      <td>37</td>\n",
       "      <td>2.2</td>\n",
       "      <td>2000</td>\n",
       "      <td>-17.6</td>\n",
       "      <td>0.0</td>\n",
       "      <td>0.0</td>\n",
       "      <td>0.0</td>\n",
       "      <td>Winter</td>\n",
       "      <td>No Holiday</td>\n",
       "      <td>Yes</td>\n",
       "      <td>2017</td>\n",
       "      <td>3</td>\n",
       "      <td>1</td>\n",
       "    </tr>\n",
       "    <tr>\n",
       "      <th>1</th>\n",
       "      <td>1</td>\n",
       "      <td>2017-01-12</td>\n",
       "      <td>204</td>\n",
       "      <td>1</td>\n",
       "      <td>-5.5</td>\n",
       "      <td>38</td>\n",
       "      <td>0.8</td>\n",
       "      <td>2000</td>\n",
       "      <td>-17.6</td>\n",
       "      <td>0.0</td>\n",
       "      <td>0.0</td>\n",
       "      <td>0.0</td>\n",
       "      <td>Winter</td>\n",
       "      <td>No Holiday</td>\n",
       "      <td>Yes</td>\n",
       "      <td>2017</td>\n",
       "      <td>3</td>\n",
       "      <td>1</td>\n",
       "    </tr>\n",
       "    <tr>\n",
       "      <th>2</th>\n",
       "      <td>2</td>\n",
       "      <td>2017-01-12</td>\n",
       "      <td>173</td>\n",
       "      <td>2</td>\n",
       "      <td>-6.0</td>\n",
       "      <td>39</td>\n",
       "      <td>1.0</td>\n",
       "      <td>2000</td>\n",
       "      <td>-17.7</td>\n",
       "      <td>0.0</td>\n",
       "      <td>0.0</td>\n",
       "      <td>0.0</td>\n",
       "      <td>Winter</td>\n",
       "      <td>No Holiday</td>\n",
       "      <td>Yes</td>\n",
       "      <td>2017</td>\n",
       "      <td>3</td>\n",
       "      <td>1</td>\n",
       "    </tr>\n",
       "    <tr>\n",
       "      <th>3</th>\n",
       "      <td>3</td>\n",
       "      <td>2017-01-12</td>\n",
       "      <td>107</td>\n",
       "      <td>3</td>\n",
       "      <td>-6.2</td>\n",
       "      <td>40</td>\n",
       "      <td>0.9</td>\n",
       "      <td>2000</td>\n",
       "      <td>-17.6</td>\n",
       "      <td>0.0</td>\n",
       "      <td>0.0</td>\n",
       "      <td>0.0</td>\n",
       "      <td>Winter</td>\n",
       "      <td>No Holiday</td>\n",
       "      <td>Yes</td>\n",
       "      <td>2017</td>\n",
       "      <td>3</td>\n",
       "      <td>1</td>\n",
       "    </tr>\n",
       "    <tr>\n",
       "      <th>4</th>\n",
       "      <td>4</td>\n",
       "      <td>2017-01-12</td>\n",
       "      <td>78</td>\n",
       "      <td>4</td>\n",
       "      <td>-6.0</td>\n",
       "      <td>36</td>\n",
       "      <td>2.3</td>\n",
       "      <td>2000</td>\n",
       "      <td>-18.6</td>\n",
       "      <td>0.0</td>\n",
       "      <td>0.0</td>\n",
       "      <td>0.0</td>\n",
       "      <td>Winter</td>\n",
       "      <td>No Holiday</td>\n",
       "      <td>Yes</td>\n",
       "      <td>2017</td>\n",
       "      <td>3</td>\n",
       "      <td>1</td>\n",
       "    </tr>\n",
       "  </tbody>\n",
       "</table>\n",
       "</div>"
      ],
      "text/plain": [
       "   ID       Date    y  Hour  Temperature  Humidity  Wind speed  Visibility  \\\n",
       "0   0 2017-01-12  254     0         -5.2        37         2.2        2000   \n",
       "1   1 2017-01-12  204     1         -5.5        38         0.8        2000   \n",
       "2   2 2017-01-12  173     2         -6.0        39         1.0        2000   \n",
       "3   3 2017-01-12  107     3         -6.2        40         0.9        2000   \n",
       "4   4 2017-01-12   78     4         -6.0        36         2.3        2000   \n",
       "\n",
       "   Dew point temperature  Solar Radiation  Rainfall  Snowfall Seasons  \\\n",
       "0                  -17.6              0.0       0.0       0.0  Winter   \n",
       "1                  -17.6              0.0       0.0       0.0  Winter   \n",
       "2                  -17.7              0.0       0.0       0.0  Winter   \n",
       "3                  -17.6              0.0       0.0       0.0  Winter   \n",
       "4                  -18.6              0.0       0.0       0.0  Winter   \n",
       "\n",
       "      Holiday Functioning Day  Year  Weekday  Month  \n",
       "0  No Holiday             Yes  2017        3      1  \n",
       "1  No Holiday             Yes  2017        3      1  \n",
       "2  No Holiday             Yes  2017        3      1  \n",
       "3  No Holiday             Yes  2017        3      1  \n",
       "4  No Holiday             Yes  2017        3      1  "
      ]
     },
     "execution_count": 7,
     "metadata": {},
     "output_type": "execute_result"
    }
   ],
   "source": [
    "train_df.head()"
   ]
  },
  {
   "cell_type": "markdown",
   "id": "3ca6c505",
   "metadata": {
    "papermill": {
     "duration": 0.028187,
     "end_time": "2021-08-30T00:34:11.437801",
     "exception": false,
     "start_time": "2021-08-30T00:34:11.409614",
     "status": "completed"
    },
    "tags": []
   },
   "source": [
    "- there is a strong correlation between temperature and dew point temperature\n",
    "- temperature and hour is the most correlated features with y"
   ]
  },
  {
   "cell_type": "code",
   "execution_count": null,
   "id": "82841ac2",
   "metadata": {
    "papermill": {
     "duration": 0.032683,
     "end_time": "2021-08-30T00:34:11.502336",
     "exception": false,
     "start_time": "2021-08-30T00:34:11.469653",
     "status": "completed"
    },
    "tags": []
   },
   "outputs": [],
   "source": []
  },
  {
   "cell_type": "code",
   "execution_count": 8,
   "id": "31a49bf7",
   "metadata": {
    "execution": {
     "iopub.execute_input": "2021-08-30T00:34:11.579495Z",
     "iopub.status.busy": "2021-08-30T00:34:11.575627Z",
     "iopub.status.idle": "2021-08-30T00:34:11.583411Z",
     "shell.execute_reply": "2021-08-30T00:34:11.583037Z",
     "shell.execute_reply.started": "2021-08-30T00:33:23.865194Z"
    },
    "papermill": {
     "duration": 0.044007,
     "end_time": "2021-08-30T00:34:11.583538",
     "exception": false,
     "start_time": "2021-08-30T00:34:11.539531",
     "status": "completed"
    },
    "tags": []
   },
   "outputs": [
    {
     "data": {
      "text/plain": [
       "752    -15.1\n",
       "751    -15.1\n",
       "753    -14.9\n",
       "750    -14.9\n",
       "749    -14.6\n",
       "        ... \n",
       "3853    37.9\n",
       "3854    38.7\n",
       "3857    39.0\n",
       "3855    39.3\n",
       "3856    39.4\n",
       "Name: Temperature, Length: 5760, dtype: float64"
      ]
     },
     "execution_count": 8,
     "metadata": {},
     "output_type": "execute_result"
    }
   ],
   "source": [
    "train_df['Temperature'].sort_values()"
   ]
  },
  {
   "cell_type": "code",
   "execution_count": 9,
   "id": "51b1cd9c",
   "metadata": {
    "execution": {
     "iopub.execute_input": "2021-08-30T00:34:11.645437Z",
     "iopub.status.busy": "2021-08-30T00:34:11.645022Z",
     "iopub.status.idle": "2021-08-30T00:34:11.650564Z",
     "shell.execute_reply": "2021-08-30T00:34:11.651095Z",
     "shell.execute_reply.started": "2021-08-30T00:33:23.876377Z"
    },
    "papermill": {
     "duration": 0.038646,
     "end_time": "2021-08-30T00:34:11.651229",
     "exception": false,
     "start_time": "2021-08-30T00:34:11.612583",
     "status": "completed"
    },
    "tags": []
   },
   "outputs": [
    {
     "data": {
      "text/plain": [
       "392    -17.8\n",
       "391    -17.5\n",
       "393    -17.5\n",
       "390    -17.4\n",
       "389    -16.9\n",
       "        ... \n",
       "1767    37.5\n",
       "1769    37.6\n",
       "1768    37.8\n",
       "1983    37.8\n",
       "1985    38.0\n",
       "Name: Temperature, Length: 3000, dtype: float64"
      ]
     },
     "execution_count": 9,
     "metadata": {},
     "output_type": "execute_result"
    }
   ],
   "source": [
    "test_df['Temperature'].sort_values()"
   ]
  },
  {
   "cell_type": "markdown",
   "id": "32ea354c",
   "metadata": {
    "papermill": {
     "duration": 0.043829,
     "end_time": "2021-08-30T00:34:11.739411",
     "exception": false,
     "start_time": "2021-08-30T00:34:11.695582",
     "status": "completed"
    },
    "tags": []
   },
   "source": [
    "# Data Preparation"
   ]
  },
  {
   "cell_type": "code",
   "execution_count": 10,
   "id": "cbcefc24",
   "metadata": {
    "execution": {
     "iopub.execute_input": "2021-08-30T00:34:11.830329Z",
     "iopub.status.busy": "2021-08-30T00:34:11.829699Z",
     "iopub.status.idle": "2021-08-30T00:34:17.702983Z",
     "shell.execute_reply": "2021-08-30T00:34:17.703509Z",
     "shell.execute_reply.started": "2021-08-30T00:33:23.893280Z"
    },
    "papermill": {
     "duration": 5.920302,
     "end_time": "2021-08-30T00:34:17.703683",
     "exception": false,
     "start_time": "2021-08-30T00:34:11.783381",
     "status": "completed"
    },
    "tags": []
   },
   "outputs": [],
   "source": [
    "for data in [train_df, test_df]:\n",
    "    data.loc[data['Rainfall'] != 0, 'Rainfall'] = 1\n",
    "    #data.loc[data['Snowfall'] != 0, 'Snowfall'] = 1\n",
    "    data['Visibility'] = np.log(data['Visibility'])\n",
    "    data['Solar Radiation'] = np.sqrt(data['Solar Radiation'])\n",
    "\n",
    "    data['Holiday'] = data['Holiday'].astype('category').cat.codes\n",
    "    data['Hour_sin'] = np.sin(2 * np.pi * data['Hour'] / 23)\n",
    "    #data['Temperature_sin'] = np.cos(2 * np.pi * data['Temperature'] / 40)\n",
    "\n",
    "    data.loc[data['Functioning Day'] == 'Yes', 'Functioning Day'] = 1\n",
    "    data.loc[data['Functioning Day'] == 'No', 'Functioning Day'] = 0\n",
    "    data['Functioning Day'] = data['Functioning Day'].astype(int)\n",
    "    data['Hot'] = 0\n",
    "    data.loc[data['Temperature'] >= 20 , 'Hot'] = 1\n",
    "    data['isOfficeHour']=0\n",
    "    data.loc[(data['Hour']>=17 ) & (data['Hour']<=20 ),'isOfficeHour' ]=1\n",
    "    data['weekend']=0\n",
    "    data.loc[data['Weekday']=='Sunday','weekend']=1\n",
    "    #data.loc[data['Weekday']=='Friday','weekend']=1\n",
    "\n",
    "    #data['Hot'].value_counts()\n",
    "    #data['Cold'] = 0\n",
    "    #data.loc[data['Temperature'] > 5, 'Cold'] = 1\n",
    "    #train_df['Cold'].value_counts()\n",
    "    #data['Hour_cos']=np.cos(2*np.pi*data['Hour']/23)\n",
    "    #data['Seasons']=data['Seasons'].astype('category').cat.codes\n",
    "    #data['month']=0\n",
    "    #data.loc[data['Month']=='June','month']=1\n",
    "    data['Year'] = data['Year'].map({2017: 0 , 2018 : 1})\n",
    "    data['hour_range'] = pd.cut(data['Hour'],[0,3,6,9,12,15,18,21,24], include_lowest = True)\n",
    "    data['month_range'] = pd.cut(data['Month'],[1,4,8,12], include_lowest = True)\n",
    "    data['day_range'] = pd.cut(data['Weekday'],[0,2,4,6], include_lowest = True)\n",
    "   \n",
    "    for i,row in data.iterrows():\n",
    "        if row.Seasons in [\"Winter\"]:\n",
    "            data.at[i,\"Winter\"]=1\n",
    "        else:\n",
    "            data.at[i,\"Winter\"]=0\n",
    "            \n",
    "    for i,row in data.iterrows():\n",
    "        if row.Seasons in [\"Autumn\",\"Spring\",\"Summer\"]:\n",
    "            data.at[i,\"Remaining_Seasons\"]=1\n",
    "        else:\n",
    "            data.at[i,\"Remaining_Seasons\"]=0\n",
    "    \n",
    "    for i,row in data.iterrows():\n",
    "        if row.Weekday in [\"Saturday\",\"Sunday\"]:\n",
    "            data.at[i,\"Sunday_Saturday\"]=1\n",
    "        else:\n",
    "            data.at[i,\"Sunday_Saturday\"]=0\n",
    "            \n",
    "    for i,row in data.iterrows():\n",
    "        if row.Weekday in [\"Thursday\",\"Tuesday\",\"Wednesday\",\"Friday\",\"Monday\"]:\n",
    "            data.at[i,\"Remaining_Weekday\"]=1\n",
    "        else:\n",
    "            data.at[i,\"Remaining_Weekday\"]=0\n",
    "\n",
    "    for i,row in data.iterrows():\n",
    "        if row.Weekday in [\"Thursday\",\"Tuesday\",\"Wednesday\",\"Friday\",\"Monday\"]:\n",
    "            data.at[i,\"Remaining_Weekday\"]=1\n",
    "        else:\n",
    "            data.at[i,\"Remaining_Weekday\"]=0\n",
    "            \n",
    "    for i,row in data.iterrows():\n",
    "        if row[\"Functioning Day\"] in [\"Yes\"] and row.Holiday in [\"No Holiday\"]:\n",
    "            data.at[i,\"Yes_Noholiday\"]=1\n",
    "        else:\n",
    "            data.at[i,\"Yes_Noholiday\"]=0"
   ]
  },
  {
   "cell_type": "code",
   "execution_count": 11,
   "id": "7ef68fbb",
   "metadata": {
    "execution": {
     "iopub.execute_input": "2021-08-30T00:34:17.795056Z",
     "iopub.status.busy": "2021-08-30T00:34:17.794420Z",
     "iopub.status.idle": "2021-08-30T00:34:17.822776Z",
     "shell.execute_reply": "2021-08-30T00:34:17.823307Z",
     "shell.execute_reply.started": "2021-08-30T00:33:32.323213Z"
    },
    "papermill": {
     "duration": 0.075245,
     "end_time": "2021-08-30T00:34:17.823466",
     "exception": false,
     "start_time": "2021-08-30T00:34:17.748221",
     "status": "completed"
    },
    "tags": []
   },
   "outputs": [
    {
     "data": {
      "text/html": [
       "<div>\n",
       "<style scoped>\n",
       "    .dataframe tbody tr th:only-of-type {\n",
       "        vertical-align: middle;\n",
       "    }\n",
       "\n",
       "    .dataframe tbody tr th {\n",
       "        vertical-align: top;\n",
       "    }\n",
       "\n",
       "    .dataframe thead th {\n",
       "        text-align: right;\n",
       "    }\n",
       "</style>\n",
       "<table border=\"1\" class=\"dataframe\">\n",
       "  <thead>\n",
       "    <tr style=\"text-align: right;\">\n",
       "      <th></th>\n",
       "      <th>ID</th>\n",
       "      <th>Date</th>\n",
       "      <th>y</th>\n",
       "      <th>Hour</th>\n",
       "      <th>Temperature</th>\n",
       "      <th>Humidity</th>\n",
       "      <th>Wind speed</th>\n",
       "      <th>Visibility</th>\n",
       "      <th>Dew point temperature</th>\n",
       "      <th>Solar Radiation</th>\n",
       "      <th>...</th>\n",
       "      <th>isOfficeHour</th>\n",
       "      <th>weekend</th>\n",
       "      <th>hour_range</th>\n",
       "      <th>month_range</th>\n",
       "      <th>day_range</th>\n",
       "      <th>Winter</th>\n",
       "      <th>Remaining_Seasons</th>\n",
       "      <th>Sunday_Saturday</th>\n",
       "      <th>Remaining_Weekday</th>\n",
       "      <th>Yes_Noholiday</th>\n",
       "    </tr>\n",
       "  </thead>\n",
       "  <tbody>\n",
       "    <tr>\n",
       "      <th>0</th>\n",
       "      <td>0</td>\n",
       "      <td>2017-01-12</td>\n",
       "      <td>254</td>\n",
       "      <td>0</td>\n",
       "      <td>-5.2</td>\n",
       "      <td>37</td>\n",
       "      <td>2.2</td>\n",
       "      <td>7.600902</td>\n",
       "      <td>-17.6</td>\n",
       "      <td>0.0</td>\n",
       "      <td>...</td>\n",
       "      <td>0</td>\n",
       "      <td>0</td>\n",
       "      <td>(-0.001, 3.0]</td>\n",
       "      <td>(0.999, 4.0]</td>\n",
       "      <td>(2.0, 4.0]</td>\n",
       "      <td>1.0</td>\n",
       "      <td>0.0</td>\n",
       "      <td>0.0</td>\n",
       "      <td>0.0</td>\n",
       "      <td>0.0</td>\n",
       "    </tr>\n",
       "    <tr>\n",
       "      <th>1</th>\n",
       "      <td>1</td>\n",
       "      <td>2017-01-12</td>\n",
       "      <td>204</td>\n",
       "      <td>1</td>\n",
       "      <td>-5.5</td>\n",
       "      <td>38</td>\n",
       "      <td>0.8</td>\n",
       "      <td>7.600902</td>\n",
       "      <td>-17.6</td>\n",
       "      <td>0.0</td>\n",
       "      <td>...</td>\n",
       "      <td>0</td>\n",
       "      <td>0</td>\n",
       "      <td>(-0.001, 3.0]</td>\n",
       "      <td>(0.999, 4.0]</td>\n",
       "      <td>(2.0, 4.0]</td>\n",
       "      <td>1.0</td>\n",
       "      <td>0.0</td>\n",
       "      <td>0.0</td>\n",
       "      <td>0.0</td>\n",
       "      <td>0.0</td>\n",
       "    </tr>\n",
       "    <tr>\n",
       "      <th>2</th>\n",
       "      <td>2</td>\n",
       "      <td>2017-01-12</td>\n",
       "      <td>173</td>\n",
       "      <td>2</td>\n",
       "      <td>-6.0</td>\n",
       "      <td>39</td>\n",
       "      <td>1.0</td>\n",
       "      <td>7.600902</td>\n",
       "      <td>-17.7</td>\n",
       "      <td>0.0</td>\n",
       "      <td>...</td>\n",
       "      <td>0</td>\n",
       "      <td>0</td>\n",
       "      <td>(-0.001, 3.0]</td>\n",
       "      <td>(0.999, 4.0]</td>\n",
       "      <td>(2.0, 4.0]</td>\n",
       "      <td>1.0</td>\n",
       "      <td>0.0</td>\n",
       "      <td>0.0</td>\n",
       "      <td>0.0</td>\n",
       "      <td>0.0</td>\n",
       "    </tr>\n",
       "    <tr>\n",
       "      <th>3</th>\n",
       "      <td>3</td>\n",
       "      <td>2017-01-12</td>\n",
       "      <td>107</td>\n",
       "      <td>3</td>\n",
       "      <td>-6.2</td>\n",
       "      <td>40</td>\n",
       "      <td>0.9</td>\n",
       "      <td>7.600902</td>\n",
       "      <td>-17.6</td>\n",
       "      <td>0.0</td>\n",
       "      <td>...</td>\n",
       "      <td>0</td>\n",
       "      <td>0</td>\n",
       "      <td>(-0.001, 3.0]</td>\n",
       "      <td>(0.999, 4.0]</td>\n",
       "      <td>(2.0, 4.0]</td>\n",
       "      <td>1.0</td>\n",
       "      <td>0.0</td>\n",
       "      <td>0.0</td>\n",
       "      <td>0.0</td>\n",
       "      <td>0.0</td>\n",
       "    </tr>\n",
       "    <tr>\n",
       "      <th>4</th>\n",
       "      <td>4</td>\n",
       "      <td>2017-01-12</td>\n",
       "      <td>78</td>\n",
       "      <td>4</td>\n",
       "      <td>-6.0</td>\n",
       "      <td>36</td>\n",
       "      <td>2.3</td>\n",
       "      <td>7.600902</td>\n",
       "      <td>-18.6</td>\n",
       "      <td>0.0</td>\n",
       "      <td>...</td>\n",
       "      <td>0</td>\n",
       "      <td>0</td>\n",
       "      <td>(3.0, 6.0]</td>\n",
       "      <td>(0.999, 4.0]</td>\n",
       "      <td>(2.0, 4.0]</td>\n",
       "      <td>1.0</td>\n",
       "      <td>0.0</td>\n",
       "      <td>0.0</td>\n",
       "      <td>0.0</td>\n",
       "      <td>0.0</td>\n",
       "    </tr>\n",
       "  </tbody>\n",
       "</table>\n",
       "<p>5 rows × 30 columns</p>\n",
       "</div>"
      ],
      "text/plain": [
       "   ID       Date    y  Hour  Temperature  Humidity  Wind speed  Visibility  \\\n",
       "0   0 2017-01-12  254     0         -5.2        37         2.2    7.600902   \n",
       "1   1 2017-01-12  204     1         -5.5        38         0.8    7.600902   \n",
       "2   2 2017-01-12  173     2         -6.0        39         1.0    7.600902   \n",
       "3   3 2017-01-12  107     3         -6.2        40         0.9    7.600902   \n",
       "4   4 2017-01-12   78     4         -6.0        36         2.3    7.600902   \n",
       "\n",
       "   Dew point temperature  Solar Radiation  ...  isOfficeHour  weekend  \\\n",
       "0                  -17.6              0.0  ...             0        0   \n",
       "1                  -17.6              0.0  ...             0        0   \n",
       "2                  -17.7              0.0  ...             0        0   \n",
       "3                  -17.6              0.0  ...             0        0   \n",
       "4                  -18.6              0.0  ...             0        0   \n",
       "\n",
       "      hour_range   month_range   day_range  Winter  Remaining_Seasons  \\\n",
       "0  (-0.001, 3.0]  (0.999, 4.0]  (2.0, 4.0]     1.0                0.0   \n",
       "1  (-0.001, 3.0]  (0.999, 4.0]  (2.0, 4.0]     1.0                0.0   \n",
       "2  (-0.001, 3.0]  (0.999, 4.0]  (2.0, 4.0]     1.0                0.0   \n",
       "3  (-0.001, 3.0]  (0.999, 4.0]  (2.0, 4.0]     1.0                0.0   \n",
       "4     (3.0, 6.0]  (0.999, 4.0]  (2.0, 4.0]     1.0                0.0   \n",
       "\n",
       "   Sunday_Saturday  Remaining_Weekday  Yes_Noholiday  \n",
       "0              0.0                0.0            0.0  \n",
       "1              0.0                0.0            0.0  \n",
       "2              0.0                0.0            0.0  \n",
       "3              0.0                0.0            0.0  \n",
       "4              0.0                0.0            0.0  \n",
       "\n",
       "[5 rows x 30 columns]"
      ]
     },
     "execution_count": 11,
     "metadata": {},
     "output_type": "execute_result"
    }
   ],
   "source": [
    "train_df.head()"
   ]
  },
  {
   "cell_type": "code",
   "execution_count": 12,
   "id": "8e34f1f8",
   "metadata": {
    "execution": {
     "iopub.execute_input": "2021-08-30T00:34:17.915643Z",
     "iopub.status.busy": "2021-08-30T00:34:17.915051Z",
     "iopub.status.idle": "2021-08-30T00:34:17.921571Z",
     "shell.execute_reply": "2021-08-30T00:34:17.922133Z",
     "shell.execute_reply.started": "2021-08-30T00:33:32.368022Z"
    },
    "papermill": {
     "duration": 0.054372,
     "end_time": "2021-08-30T00:34:17.922314",
     "exception": false,
     "start_time": "2021-08-30T00:34:17.867942",
     "status": "completed"
    },
    "tags": []
   },
   "outputs": [],
   "source": [
    "# dropping some features\n",
    "train_df.drop(columns = ['ID', 'Date','Snowfall','Visibility'], axis = 1, inplace = True)\n",
    "X_test = test_df.drop(columns = ['ID', 'Date','Snowfall','Visibility'], axis = 1)"
   ]
  },
  {
   "cell_type": "code",
   "execution_count": 13,
   "id": "0f61550c",
   "metadata": {
    "execution": {
     "iopub.execute_input": "2021-08-30T00:34:18.016094Z",
     "iopub.status.busy": "2021-08-30T00:34:18.015406Z",
     "iopub.status.idle": "2021-08-30T00:34:18.051522Z",
     "shell.execute_reply": "2021-08-30T00:34:18.051940Z",
     "shell.execute_reply.started": "2021-08-30T00:33:32.380186Z"
    },
    "papermill": {
     "duration": 0.084482,
     "end_time": "2021-08-30T00:34:18.052093",
     "exception": false,
     "start_time": "2021-08-30T00:34:17.967611",
     "status": "completed"
    },
    "tags": []
   },
   "outputs": [],
   "source": [
    "train_df = pd.get_dummies(train_df)\n",
    "X_test = pd.get_dummies(X_test)\n",
    "pd.options.display.max_columns = 100"
   ]
  },
  {
   "cell_type": "code",
   "execution_count": null,
   "id": "c0ba2eaa",
   "metadata": {
    "papermill": {
     "duration": 0.029393,
     "end_time": "2021-08-30T00:34:18.111536",
     "exception": false,
     "start_time": "2021-08-30T00:34:18.082143",
     "status": "completed"
    },
    "tags": []
   },
   "outputs": [],
   "source": []
  },
  {
   "cell_type": "code",
   "execution_count": 14,
   "id": "01a35d4a",
   "metadata": {
    "execution": {
     "iopub.execute_input": "2021-08-30T00:34:18.185078Z",
     "iopub.status.busy": "2021-08-30T00:34:18.175721Z",
     "iopub.status.idle": "2021-08-30T00:34:18.201434Z",
     "shell.execute_reply": "2021-08-30T00:34:18.200973Z",
     "shell.execute_reply.started": "2021-08-30T00:33:32.537796Z"
    },
    "papermill": {
     "duration": 0.060139,
     "end_time": "2021-08-30T00:34:18.201537",
     "exception": false,
     "start_time": "2021-08-30T00:34:18.141398",
     "status": "completed"
    },
    "tags": []
   },
   "outputs": [
    {
     "data": {
      "text/html": [
       "<div>\n",
       "<style scoped>\n",
       "    .dataframe tbody tr th:only-of-type {\n",
       "        vertical-align: middle;\n",
       "    }\n",
       "\n",
       "    .dataframe tbody tr th {\n",
       "        vertical-align: top;\n",
       "    }\n",
       "\n",
       "    .dataframe thead th {\n",
       "        text-align: right;\n",
       "    }\n",
       "</style>\n",
       "<table border=\"1\" class=\"dataframe\">\n",
       "  <thead>\n",
       "    <tr style=\"text-align: right;\">\n",
       "      <th></th>\n",
       "      <th>y</th>\n",
       "      <th>Hour</th>\n",
       "      <th>Temperature</th>\n",
       "      <th>Humidity</th>\n",
       "      <th>Wind speed</th>\n",
       "      <th>Dew point temperature</th>\n",
       "      <th>Solar Radiation</th>\n",
       "      <th>Rainfall</th>\n",
       "      <th>Holiday</th>\n",
       "      <th>Functioning Day</th>\n",
       "      <th>Year</th>\n",
       "      <th>Weekday</th>\n",
       "      <th>Month</th>\n",
       "      <th>Hour_sin</th>\n",
       "      <th>Hot</th>\n",
       "      <th>isOfficeHour</th>\n",
       "      <th>weekend</th>\n",
       "      <th>Winter</th>\n",
       "      <th>Remaining_Seasons</th>\n",
       "      <th>Sunday_Saturday</th>\n",
       "      <th>Remaining_Weekday</th>\n",
       "      <th>Yes_Noholiday</th>\n",
       "      <th>Seasons_Autumn</th>\n",
       "      <th>Seasons_Spring</th>\n",
       "      <th>Seasons_Summer</th>\n",
       "      <th>Seasons_Winter</th>\n",
       "      <th>hour_range_(-0.001, 3.0]</th>\n",
       "      <th>hour_range_(3.0, 6.0]</th>\n",
       "      <th>hour_range_(6.0, 9.0]</th>\n",
       "      <th>hour_range_(9.0, 12.0]</th>\n",
       "      <th>hour_range_(12.0, 15.0]</th>\n",
       "      <th>hour_range_(15.0, 18.0]</th>\n",
       "      <th>hour_range_(18.0, 21.0]</th>\n",
       "      <th>hour_range_(21.0, 24.0]</th>\n",
       "      <th>month_range_(0.999, 4.0]</th>\n",
       "      <th>month_range_(4.0, 8.0]</th>\n",
       "      <th>month_range_(8.0, 12.0]</th>\n",
       "      <th>day_range_(-0.001, 2.0]</th>\n",
       "      <th>day_range_(2.0, 4.0]</th>\n",
       "      <th>day_range_(4.0, 6.0]</th>\n",
       "    </tr>\n",
       "  </thead>\n",
       "  <tbody>\n",
       "    <tr>\n",
       "      <th>0</th>\n",
       "      <td>254</td>\n",
       "      <td>0</td>\n",
       "      <td>-5.2</td>\n",
       "      <td>37</td>\n",
       "      <td>2.2</td>\n",
       "      <td>-17.6</td>\n",
       "      <td>0.0</td>\n",
       "      <td>0.0</td>\n",
       "      <td>1</td>\n",
       "      <td>1</td>\n",
       "      <td>0</td>\n",
       "      <td>3</td>\n",
       "      <td>1</td>\n",
       "      <td>0.000000</td>\n",
       "      <td>0</td>\n",
       "      <td>0</td>\n",
       "      <td>0</td>\n",
       "      <td>1.0</td>\n",
       "      <td>0.0</td>\n",
       "      <td>0.0</td>\n",
       "      <td>0.0</td>\n",
       "      <td>0.0</td>\n",
       "      <td>0</td>\n",
       "      <td>0</td>\n",
       "      <td>0</td>\n",
       "      <td>1</td>\n",
       "      <td>1</td>\n",
       "      <td>0</td>\n",
       "      <td>0</td>\n",
       "      <td>0</td>\n",
       "      <td>0</td>\n",
       "      <td>0</td>\n",
       "      <td>0</td>\n",
       "      <td>0</td>\n",
       "      <td>1</td>\n",
       "      <td>0</td>\n",
       "      <td>0</td>\n",
       "      <td>0</td>\n",
       "      <td>1</td>\n",
       "      <td>0</td>\n",
       "    </tr>\n",
       "    <tr>\n",
       "      <th>1</th>\n",
       "      <td>204</td>\n",
       "      <td>1</td>\n",
       "      <td>-5.5</td>\n",
       "      <td>38</td>\n",
       "      <td>0.8</td>\n",
       "      <td>-17.6</td>\n",
       "      <td>0.0</td>\n",
       "      <td>0.0</td>\n",
       "      <td>1</td>\n",
       "      <td>1</td>\n",
       "      <td>0</td>\n",
       "      <td>3</td>\n",
       "      <td>1</td>\n",
       "      <td>0.269797</td>\n",
       "      <td>0</td>\n",
       "      <td>0</td>\n",
       "      <td>0</td>\n",
       "      <td>1.0</td>\n",
       "      <td>0.0</td>\n",
       "      <td>0.0</td>\n",
       "      <td>0.0</td>\n",
       "      <td>0.0</td>\n",
       "      <td>0</td>\n",
       "      <td>0</td>\n",
       "      <td>0</td>\n",
       "      <td>1</td>\n",
       "      <td>1</td>\n",
       "      <td>0</td>\n",
       "      <td>0</td>\n",
       "      <td>0</td>\n",
       "      <td>0</td>\n",
       "      <td>0</td>\n",
       "      <td>0</td>\n",
       "      <td>0</td>\n",
       "      <td>1</td>\n",
       "      <td>0</td>\n",
       "      <td>0</td>\n",
       "      <td>0</td>\n",
       "      <td>1</td>\n",
       "      <td>0</td>\n",
       "    </tr>\n",
       "    <tr>\n",
       "      <th>2</th>\n",
       "      <td>173</td>\n",
       "      <td>2</td>\n",
       "      <td>-6.0</td>\n",
       "      <td>39</td>\n",
       "      <td>1.0</td>\n",
       "      <td>-17.7</td>\n",
       "      <td>0.0</td>\n",
       "      <td>0.0</td>\n",
       "      <td>1</td>\n",
       "      <td>1</td>\n",
       "      <td>0</td>\n",
       "      <td>3</td>\n",
       "      <td>1</td>\n",
       "      <td>0.519584</td>\n",
       "      <td>0</td>\n",
       "      <td>0</td>\n",
       "      <td>0</td>\n",
       "      <td>1.0</td>\n",
       "      <td>0.0</td>\n",
       "      <td>0.0</td>\n",
       "      <td>0.0</td>\n",
       "      <td>0.0</td>\n",
       "      <td>0</td>\n",
       "      <td>0</td>\n",
       "      <td>0</td>\n",
       "      <td>1</td>\n",
       "      <td>1</td>\n",
       "      <td>0</td>\n",
       "      <td>0</td>\n",
       "      <td>0</td>\n",
       "      <td>0</td>\n",
       "      <td>0</td>\n",
       "      <td>0</td>\n",
       "      <td>0</td>\n",
       "      <td>1</td>\n",
       "      <td>0</td>\n",
       "      <td>0</td>\n",
       "      <td>0</td>\n",
       "      <td>1</td>\n",
       "      <td>0</td>\n",
       "    </tr>\n",
       "    <tr>\n",
       "      <th>3</th>\n",
       "      <td>107</td>\n",
       "      <td>3</td>\n",
       "      <td>-6.2</td>\n",
       "      <td>40</td>\n",
       "      <td>0.9</td>\n",
       "      <td>-17.6</td>\n",
       "      <td>0.0</td>\n",
       "      <td>0.0</td>\n",
       "      <td>1</td>\n",
       "      <td>1</td>\n",
       "      <td>0</td>\n",
       "      <td>3</td>\n",
       "      <td>1</td>\n",
       "      <td>0.730836</td>\n",
       "      <td>0</td>\n",
       "      <td>0</td>\n",
       "      <td>0</td>\n",
       "      <td>1.0</td>\n",
       "      <td>0.0</td>\n",
       "      <td>0.0</td>\n",
       "      <td>0.0</td>\n",
       "      <td>0.0</td>\n",
       "      <td>0</td>\n",
       "      <td>0</td>\n",
       "      <td>0</td>\n",
       "      <td>1</td>\n",
       "      <td>1</td>\n",
       "      <td>0</td>\n",
       "      <td>0</td>\n",
       "      <td>0</td>\n",
       "      <td>0</td>\n",
       "      <td>0</td>\n",
       "      <td>0</td>\n",
       "      <td>0</td>\n",
       "      <td>1</td>\n",
       "      <td>0</td>\n",
       "      <td>0</td>\n",
       "      <td>0</td>\n",
       "      <td>1</td>\n",
       "      <td>0</td>\n",
       "    </tr>\n",
       "    <tr>\n",
       "      <th>4</th>\n",
       "      <td>78</td>\n",
       "      <td>4</td>\n",
       "      <td>-6.0</td>\n",
       "      <td>36</td>\n",
       "      <td>2.3</td>\n",
       "      <td>-18.6</td>\n",
       "      <td>0.0</td>\n",
       "      <td>0.0</td>\n",
       "      <td>1</td>\n",
       "      <td>1</td>\n",
       "      <td>0</td>\n",
       "      <td>3</td>\n",
       "      <td>1</td>\n",
       "      <td>0.887885</td>\n",
       "      <td>0</td>\n",
       "      <td>0</td>\n",
       "      <td>0</td>\n",
       "      <td>1.0</td>\n",
       "      <td>0.0</td>\n",
       "      <td>0.0</td>\n",
       "      <td>0.0</td>\n",
       "      <td>0.0</td>\n",
       "      <td>0</td>\n",
       "      <td>0</td>\n",
       "      <td>0</td>\n",
       "      <td>1</td>\n",
       "      <td>0</td>\n",
       "      <td>1</td>\n",
       "      <td>0</td>\n",
       "      <td>0</td>\n",
       "      <td>0</td>\n",
       "      <td>0</td>\n",
       "      <td>0</td>\n",
       "      <td>0</td>\n",
       "      <td>1</td>\n",
       "      <td>0</td>\n",
       "      <td>0</td>\n",
       "      <td>0</td>\n",
       "      <td>1</td>\n",
       "      <td>0</td>\n",
       "    </tr>\n",
       "  </tbody>\n",
       "</table>\n",
       "</div>"
      ],
      "text/plain": [
       "     y  Hour  Temperature  Humidity  Wind speed  Dew point temperature  \\\n",
       "0  254     0         -5.2        37         2.2                  -17.6   \n",
       "1  204     1         -5.5        38         0.8                  -17.6   \n",
       "2  173     2         -6.0        39         1.0                  -17.7   \n",
       "3  107     3         -6.2        40         0.9                  -17.6   \n",
       "4   78     4         -6.0        36         2.3                  -18.6   \n",
       "\n",
       "   Solar Radiation  Rainfall  Holiday  Functioning Day  Year  Weekday  Month  \\\n",
       "0              0.0       0.0        1                1     0        3      1   \n",
       "1              0.0       0.0        1                1     0        3      1   \n",
       "2              0.0       0.0        1                1     0        3      1   \n",
       "3              0.0       0.0        1                1     0        3      1   \n",
       "4              0.0       0.0        1                1     0        3      1   \n",
       "\n",
       "   Hour_sin  Hot  isOfficeHour  weekend  Winter  Remaining_Seasons  \\\n",
       "0  0.000000    0             0        0     1.0                0.0   \n",
       "1  0.269797    0             0        0     1.0                0.0   \n",
       "2  0.519584    0             0        0     1.0                0.0   \n",
       "3  0.730836    0             0        0     1.0                0.0   \n",
       "4  0.887885    0             0        0     1.0                0.0   \n",
       "\n",
       "   Sunday_Saturday  Remaining_Weekday  Yes_Noholiday  Seasons_Autumn  \\\n",
       "0              0.0                0.0            0.0               0   \n",
       "1              0.0                0.0            0.0               0   \n",
       "2              0.0                0.0            0.0               0   \n",
       "3              0.0                0.0            0.0               0   \n",
       "4              0.0                0.0            0.0               0   \n",
       "\n",
       "   Seasons_Spring  Seasons_Summer  Seasons_Winter  hour_range_(-0.001, 3.0]  \\\n",
       "0               0               0               1                         1   \n",
       "1               0               0               1                         1   \n",
       "2               0               0               1                         1   \n",
       "3               0               0               1                         1   \n",
       "4               0               0               1                         0   \n",
       "\n",
       "   hour_range_(3.0, 6.0]  hour_range_(6.0, 9.0]  hour_range_(9.0, 12.0]  \\\n",
       "0                      0                      0                       0   \n",
       "1                      0                      0                       0   \n",
       "2                      0                      0                       0   \n",
       "3                      0                      0                       0   \n",
       "4                      1                      0                       0   \n",
       "\n",
       "   hour_range_(12.0, 15.0]  hour_range_(15.0, 18.0]  hour_range_(18.0, 21.0]  \\\n",
       "0                        0                        0                        0   \n",
       "1                        0                        0                        0   \n",
       "2                        0                        0                        0   \n",
       "3                        0                        0                        0   \n",
       "4                        0                        0                        0   \n",
       "\n",
       "   hour_range_(21.0, 24.0]  month_range_(0.999, 4.0]  month_range_(4.0, 8.0]  \\\n",
       "0                        0                         1                       0   \n",
       "1                        0                         1                       0   \n",
       "2                        0                         1                       0   \n",
       "3                        0                         1                       0   \n",
       "4                        0                         1                       0   \n",
       "\n",
       "   month_range_(8.0, 12.0]  day_range_(-0.001, 2.0]  day_range_(2.0, 4.0]  \\\n",
       "0                        0                        0                     1   \n",
       "1                        0                        0                     1   \n",
       "2                        0                        0                     1   \n",
       "3                        0                        0                     1   \n",
       "4                        0                        0                     1   \n",
       "\n",
       "   day_range_(4.0, 6.0]  \n",
       "0                     0  \n",
       "1                     0  \n",
       "2                     0  \n",
       "3                     0  \n",
       "4                     0  "
      ]
     },
     "execution_count": 14,
     "metadata": {},
     "output_type": "execute_result"
    }
   ],
   "source": [
    "train_df.head()"
   ]
  },
  {
   "cell_type": "code",
   "execution_count": 15,
   "id": "a8cbe0ff",
   "metadata": {
    "execution": {
     "iopub.execute_input": "2021-08-30T00:34:18.276189Z",
     "iopub.status.busy": "2021-08-30T00:34:18.266455Z",
     "iopub.status.idle": "2021-08-30T00:34:18.295383Z",
     "shell.execute_reply": "2021-08-30T00:34:18.295001Z",
     "shell.execute_reply.started": "2021-08-30T00:33:32.580689Z"
    },
    "papermill": {
     "duration": 0.063795,
     "end_time": "2021-08-30T00:34:18.295498",
     "exception": false,
     "start_time": "2021-08-30T00:34:18.231703",
     "status": "completed"
    },
    "tags": []
   },
   "outputs": [
    {
     "data": {
      "text/html": [
       "<div>\n",
       "<style scoped>\n",
       "    .dataframe tbody tr th:only-of-type {\n",
       "        vertical-align: middle;\n",
       "    }\n",
       "\n",
       "    .dataframe tbody tr th {\n",
       "        vertical-align: top;\n",
       "    }\n",
       "\n",
       "    .dataframe thead th {\n",
       "        text-align: right;\n",
       "    }\n",
       "</style>\n",
       "<table border=\"1\" class=\"dataframe\">\n",
       "  <thead>\n",
       "    <tr style=\"text-align: right;\">\n",
       "      <th></th>\n",
       "      <th>Hour</th>\n",
       "      <th>Temperature</th>\n",
       "      <th>Humidity</th>\n",
       "      <th>Wind speed</th>\n",
       "      <th>Dew point temperature</th>\n",
       "      <th>Solar Radiation</th>\n",
       "      <th>Rainfall</th>\n",
       "      <th>Holiday</th>\n",
       "      <th>Functioning Day</th>\n",
       "      <th>Year</th>\n",
       "      <th>Weekday</th>\n",
       "      <th>Month</th>\n",
       "      <th>Hour_sin</th>\n",
       "      <th>Hot</th>\n",
       "      <th>isOfficeHour</th>\n",
       "      <th>weekend</th>\n",
       "      <th>Winter</th>\n",
       "      <th>Remaining_Seasons</th>\n",
       "      <th>Sunday_Saturday</th>\n",
       "      <th>Remaining_Weekday</th>\n",
       "      <th>Yes_Noholiday</th>\n",
       "      <th>Seasons_Autumn</th>\n",
       "      <th>Seasons_Spring</th>\n",
       "      <th>Seasons_Summer</th>\n",
       "      <th>Seasons_Winter</th>\n",
       "      <th>hour_range_(-0.001, 3.0]</th>\n",
       "      <th>hour_range_(3.0, 6.0]</th>\n",
       "      <th>hour_range_(6.0, 9.0]</th>\n",
       "      <th>hour_range_(9.0, 12.0]</th>\n",
       "      <th>hour_range_(12.0, 15.0]</th>\n",
       "      <th>hour_range_(15.0, 18.0]</th>\n",
       "      <th>hour_range_(18.0, 21.0]</th>\n",
       "      <th>hour_range_(21.0, 24.0]</th>\n",
       "      <th>month_range_(0.999, 4.0]</th>\n",
       "      <th>month_range_(4.0, 8.0]</th>\n",
       "      <th>month_range_(8.0, 12.0]</th>\n",
       "      <th>day_range_(-0.001, 2.0]</th>\n",
       "      <th>day_range_(2.0, 4.0]</th>\n",
       "      <th>day_range_(4.0, 6.0]</th>\n",
       "    </tr>\n",
       "  </thead>\n",
       "  <tbody>\n",
       "    <tr>\n",
       "      <th>0</th>\n",
       "      <td>0</td>\n",
       "      <td>-1.3</td>\n",
       "      <td>90</td>\n",
       "      <td>2.0</td>\n",
       "      <td>-2.7</td>\n",
       "      <td>0.0</td>\n",
       "      <td>0.0</td>\n",
       "      <td>1</td>\n",
       "      <td>1</td>\n",
       "      <td>0</td>\n",
       "      <td>3</td>\n",
       "      <td>12</td>\n",
       "      <td>0.000000</td>\n",
       "      <td>0</td>\n",
       "      <td>0</td>\n",
       "      <td>0</td>\n",
       "      <td>1.0</td>\n",
       "      <td>0.0</td>\n",
       "      <td>0.0</td>\n",
       "      <td>0.0</td>\n",
       "      <td>0.0</td>\n",
       "      <td>0</td>\n",
       "      <td>0</td>\n",
       "      <td>0</td>\n",
       "      <td>1</td>\n",
       "      <td>1</td>\n",
       "      <td>0</td>\n",
       "      <td>0</td>\n",
       "      <td>0</td>\n",
       "      <td>0</td>\n",
       "      <td>0</td>\n",
       "      <td>0</td>\n",
       "      <td>0</td>\n",
       "      <td>0</td>\n",
       "      <td>0</td>\n",
       "      <td>1</td>\n",
       "      <td>0</td>\n",
       "      <td>1</td>\n",
       "      <td>0</td>\n",
       "    </tr>\n",
       "    <tr>\n",
       "      <th>1</th>\n",
       "      <td>1</td>\n",
       "      <td>-1.8</td>\n",
       "      <td>90</td>\n",
       "      <td>1.6</td>\n",
       "      <td>-3.2</td>\n",
       "      <td>0.0</td>\n",
       "      <td>0.0</td>\n",
       "      <td>1</td>\n",
       "      <td>1</td>\n",
       "      <td>0</td>\n",
       "      <td>3</td>\n",
       "      <td>12</td>\n",
       "      <td>0.269797</td>\n",
       "      <td>0</td>\n",
       "      <td>0</td>\n",
       "      <td>0</td>\n",
       "      <td>1.0</td>\n",
       "      <td>0.0</td>\n",
       "      <td>0.0</td>\n",
       "      <td>0.0</td>\n",
       "      <td>0.0</td>\n",
       "      <td>0</td>\n",
       "      <td>0</td>\n",
       "      <td>0</td>\n",
       "      <td>1</td>\n",
       "      <td>1</td>\n",
       "      <td>0</td>\n",
       "      <td>0</td>\n",
       "      <td>0</td>\n",
       "      <td>0</td>\n",
       "      <td>0</td>\n",
       "      <td>0</td>\n",
       "      <td>0</td>\n",
       "      <td>0</td>\n",
       "      <td>0</td>\n",
       "      <td>1</td>\n",
       "      <td>0</td>\n",
       "      <td>1</td>\n",
       "      <td>0</td>\n",
       "    </tr>\n",
       "    <tr>\n",
       "      <th>2</th>\n",
       "      <td>2</td>\n",
       "      <td>-2.2</td>\n",
       "      <td>88</td>\n",
       "      <td>1.4</td>\n",
       "      <td>-3.9</td>\n",
       "      <td>0.0</td>\n",
       "      <td>0.0</td>\n",
       "      <td>1</td>\n",
       "      <td>1</td>\n",
       "      <td>0</td>\n",
       "      <td>3</td>\n",
       "      <td>12</td>\n",
       "      <td>0.519584</td>\n",
       "      <td>0</td>\n",
       "      <td>0</td>\n",
       "      <td>0</td>\n",
       "      <td>1.0</td>\n",
       "      <td>0.0</td>\n",
       "      <td>0.0</td>\n",
       "      <td>0.0</td>\n",
       "      <td>0.0</td>\n",
       "      <td>0</td>\n",
       "      <td>0</td>\n",
       "      <td>0</td>\n",
       "      <td>1</td>\n",
       "      <td>1</td>\n",
       "      <td>0</td>\n",
       "      <td>0</td>\n",
       "      <td>0</td>\n",
       "      <td>0</td>\n",
       "      <td>0</td>\n",
       "      <td>0</td>\n",
       "      <td>0</td>\n",
       "      <td>0</td>\n",
       "      <td>0</td>\n",
       "      <td>1</td>\n",
       "      <td>0</td>\n",
       "      <td>1</td>\n",
       "      <td>0</td>\n",
       "    </tr>\n",
       "    <tr>\n",
       "      <th>3</th>\n",
       "      <td>3</td>\n",
       "      <td>-2.9</td>\n",
       "      <td>89</td>\n",
       "      <td>1.3</td>\n",
       "      <td>-4.4</td>\n",
       "      <td>0.0</td>\n",
       "      <td>0.0</td>\n",
       "      <td>1</td>\n",
       "      <td>1</td>\n",
       "      <td>0</td>\n",
       "      <td>3</td>\n",
       "      <td>12</td>\n",
       "      <td>0.730836</td>\n",
       "      <td>0</td>\n",
       "      <td>0</td>\n",
       "      <td>0</td>\n",
       "      <td>1.0</td>\n",
       "      <td>0.0</td>\n",
       "      <td>0.0</td>\n",
       "      <td>0.0</td>\n",
       "      <td>0.0</td>\n",
       "      <td>0</td>\n",
       "      <td>0</td>\n",
       "      <td>0</td>\n",
       "      <td>1</td>\n",
       "      <td>1</td>\n",
       "      <td>0</td>\n",
       "      <td>0</td>\n",
       "      <td>0</td>\n",
       "      <td>0</td>\n",
       "      <td>0</td>\n",
       "      <td>0</td>\n",
       "      <td>0</td>\n",
       "      <td>0</td>\n",
       "      <td>0</td>\n",
       "      <td>1</td>\n",
       "      <td>0</td>\n",
       "      <td>1</td>\n",
       "      <td>0</td>\n",
       "    </tr>\n",
       "    <tr>\n",
       "      <th>4</th>\n",
       "      <td>4</td>\n",
       "      <td>-3.6</td>\n",
       "      <td>91</td>\n",
       "      <td>1.2</td>\n",
       "      <td>-4.8</td>\n",
       "      <td>0.0</td>\n",
       "      <td>0.0</td>\n",
       "      <td>1</td>\n",
       "      <td>1</td>\n",
       "      <td>0</td>\n",
       "      <td>3</td>\n",
       "      <td>12</td>\n",
       "      <td>0.887885</td>\n",
       "      <td>0</td>\n",
       "      <td>0</td>\n",
       "      <td>0</td>\n",
       "      <td>1.0</td>\n",
       "      <td>0.0</td>\n",
       "      <td>0.0</td>\n",
       "      <td>0.0</td>\n",
       "      <td>0.0</td>\n",
       "      <td>0</td>\n",
       "      <td>0</td>\n",
       "      <td>0</td>\n",
       "      <td>1</td>\n",
       "      <td>0</td>\n",
       "      <td>1</td>\n",
       "      <td>0</td>\n",
       "      <td>0</td>\n",
       "      <td>0</td>\n",
       "      <td>0</td>\n",
       "      <td>0</td>\n",
       "      <td>0</td>\n",
       "      <td>0</td>\n",
       "      <td>0</td>\n",
       "      <td>1</td>\n",
       "      <td>0</td>\n",
       "      <td>1</td>\n",
       "      <td>0</td>\n",
       "    </tr>\n",
       "  </tbody>\n",
       "</table>\n",
       "</div>"
      ],
      "text/plain": [
       "   Hour  Temperature  Humidity  Wind speed  Dew point temperature  \\\n",
       "0     0         -1.3        90         2.0                   -2.7   \n",
       "1     1         -1.8        90         1.6                   -3.2   \n",
       "2     2         -2.2        88         1.4                   -3.9   \n",
       "3     3         -2.9        89         1.3                   -4.4   \n",
       "4     4         -3.6        91         1.2                   -4.8   \n",
       "\n",
       "   Solar Radiation  Rainfall  Holiday  Functioning Day  Year  Weekday  Month  \\\n",
       "0              0.0       0.0        1                1     0        3     12   \n",
       "1              0.0       0.0        1                1     0        3     12   \n",
       "2              0.0       0.0        1                1     0        3     12   \n",
       "3              0.0       0.0        1                1     0        3     12   \n",
       "4              0.0       0.0        1                1     0        3     12   \n",
       "\n",
       "   Hour_sin  Hot  isOfficeHour  weekend  Winter  Remaining_Seasons  \\\n",
       "0  0.000000    0             0        0     1.0                0.0   \n",
       "1  0.269797    0             0        0     1.0                0.0   \n",
       "2  0.519584    0             0        0     1.0                0.0   \n",
       "3  0.730836    0             0        0     1.0                0.0   \n",
       "4  0.887885    0             0        0     1.0                0.0   \n",
       "\n",
       "   Sunday_Saturday  Remaining_Weekday  Yes_Noholiday  Seasons_Autumn  \\\n",
       "0              0.0                0.0            0.0               0   \n",
       "1              0.0                0.0            0.0               0   \n",
       "2              0.0                0.0            0.0               0   \n",
       "3              0.0                0.0            0.0               0   \n",
       "4              0.0                0.0            0.0               0   \n",
       "\n",
       "   Seasons_Spring  Seasons_Summer  Seasons_Winter  hour_range_(-0.001, 3.0]  \\\n",
       "0               0               0               1                         1   \n",
       "1               0               0               1                         1   \n",
       "2               0               0               1                         1   \n",
       "3               0               0               1                         1   \n",
       "4               0               0               1                         0   \n",
       "\n",
       "   hour_range_(3.0, 6.0]  hour_range_(6.0, 9.0]  hour_range_(9.0, 12.0]  \\\n",
       "0                      0                      0                       0   \n",
       "1                      0                      0                       0   \n",
       "2                      0                      0                       0   \n",
       "3                      0                      0                       0   \n",
       "4                      1                      0                       0   \n",
       "\n",
       "   hour_range_(12.0, 15.0]  hour_range_(15.0, 18.0]  hour_range_(18.0, 21.0]  \\\n",
       "0                        0                        0                        0   \n",
       "1                        0                        0                        0   \n",
       "2                        0                        0                        0   \n",
       "3                        0                        0                        0   \n",
       "4                        0                        0                        0   \n",
       "\n",
       "   hour_range_(21.0, 24.0]  month_range_(0.999, 4.0]  month_range_(4.0, 8.0]  \\\n",
       "0                        0                         0                       0   \n",
       "1                        0                         0                       0   \n",
       "2                        0                         0                       0   \n",
       "3                        0                         0                       0   \n",
       "4                        0                         0                       0   \n",
       "\n",
       "   month_range_(8.0, 12.0]  day_range_(-0.001, 2.0]  day_range_(2.0, 4.0]  \\\n",
       "0                        1                        0                     1   \n",
       "1                        1                        0                     1   \n",
       "2                        1                        0                     1   \n",
       "3                        1                        0                     1   \n",
       "4                        1                        0                     1   \n",
       "\n",
       "   day_range_(4.0, 6.0]  \n",
       "0                     0  \n",
       "1                     0  \n",
       "2                     0  \n",
       "3                     0  \n",
       "4                     0  "
      ]
     },
     "execution_count": 15,
     "metadata": {},
     "output_type": "execute_result"
    }
   ],
   "source": [
    "X_test.head()"
   ]
  },
  {
   "cell_type": "code",
   "execution_count": 16,
   "id": "9b9052f4",
   "metadata": {
    "execution": {
     "iopub.execute_input": "2021-08-30T00:34:18.359168Z",
     "iopub.status.busy": "2021-08-30T00:34:18.358662Z",
     "iopub.status.idle": "2021-08-30T00:34:18.360474Z",
     "shell.execute_reply": "2021-08-30T00:34:18.359986Z",
     "shell.execute_reply.started": "2021-08-30T00:33:32.624723Z"
    },
    "papermill": {
     "duration": 0.034789,
     "end_time": "2021-08-30T00:34:18.360584",
     "exception": false,
     "start_time": "2021-08-30T00:34:18.325795",
     "status": "completed"
    },
    "tags": []
   },
   "outputs": [],
   "source": [
    "## removing some outliers\n",
    "#print(f'Shape of training set before removing outliers is : {train_df.shape}')\n",
    "#train_df = train_df[train_df['Wind speed'] < 5.5]\n",
    "#train_df = train_df[train_df['y'] < 2500]\n",
    "#print(f'Shape of training set after removing outliers is : {train_df.shape}')\n",
    "#train_df= train_df[np.abs(train_df[\"y\"]-train_df[\"y\"].mean())<=(1*train_df[\"y\"].std())] "
   ]
  },
  {
   "cell_type": "code",
   "execution_count": 17,
   "id": "eb99d453",
   "metadata": {
    "execution": {
     "iopub.execute_input": "2021-08-30T00:34:18.431813Z",
     "iopub.status.busy": "2021-08-30T00:34:18.431315Z",
     "iopub.status.idle": "2021-08-30T00:34:21.432151Z",
     "shell.execute_reply": "2021-08-30T00:34:21.432521Z",
     "shell.execute_reply.started": "2021-08-30T00:33:32.630420Z"
    },
    "papermill": {
     "duration": 3.040836,
     "end_time": "2021-08-30T00:34:21.432646",
     "exception": false,
     "start_time": "2021-08-30T00:34:18.391810",
     "status": "completed"
    },
    "tags": []
   },
   "outputs": [
    {
     "data": {
      "image/png": "[encoded data removed]",
      "text/plain": [
       "<Figure size 1440x720 with 2 Axes>"
      ]
     },
     "metadata": {
      "needs_background": "light"
     },
     "output_type": "display_data"
    }
   ],
   "source": [
    "corr_matrix = train_df.corr()\n",
    "mask = np.triu(np.ones_like(corr_matrix,dtype = bool))\n",
    "plt.figure(figsize = (20,10))\n",
    "sns.heatmap(corr_matrix, fmt = '0.2f', cmap = 'Blues', mask = mask, annot = True)\n",
    "plt.title(\"Correlation Analysis\");"
   ]
  },
  {
   "cell_type": "code",
   "execution_count": 18,
   "id": "120c13dd",
   "metadata": {
    "execution": {
     "iopub.execute_input": "2021-08-30T00:34:21.509737Z",
     "iopub.status.busy": "2021-08-30T00:34:21.509307Z",
     "iopub.status.idle": "2021-08-30T00:34:21.516095Z",
     "shell.execute_reply": "2021-08-30T00:34:21.516551Z",
     "shell.execute_reply.started": "2021-08-30T00:33:37.497777Z"
    },
    "papermill": {
     "duration": 0.045219,
     "end_time": "2021-08-30T00:34:21.516703",
     "exception": false,
     "start_time": "2021-08-30T00:34:21.471484",
     "status": "completed"
    },
    "tags": []
   },
   "outputs": [
    {
     "data": {
      "text/plain": [
       "Index(['y', 'Hour', 'Temperature', 'Humidity', 'Wind speed',\n",
       "       'Dew point temperature', 'Solar Radiation', 'Rainfall', 'Holiday',\n",
       "       'Functioning Day', 'Year', 'Weekday', 'Month', 'Hour_sin', 'Hot',\n",
       "       'isOfficeHour', 'weekend', 'Winter', 'Remaining_Seasons',\n",
       "       'Sunday_Saturday', 'Remaining_Weekday', 'Yes_Noholiday',\n",
       "       'Seasons_Autumn', 'Seasons_Spring', 'Seasons_Summer', 'Seasons_Winter',\n",
       "       'hour_range_(-0.001, 3.0]', 'hour_range_(3.0, 6.0]',\n",
       "       'hour_range_(6.0, 9.0]', 'hour_range_(9.0, 12.0]',\n",
       "       'hour_range_(12.0, 15.0]', 'hour_range_(15.0, 18.0]',\n",
       "       'hour_range_(18.0, 21.0]', 'hour_range_(21.0, 24.0]',\n",
       "       'month_range_(0.999, 4.0]', 'month_range_(4.0, 8.0]',\n",
       "       'month_range_(8.0, 12.0]', 'day_range_(-0.001, 2.0]',\n",
       "       'day_range_(2.0, 4.0]', 'day_range_(4.0, 6.0]'],\n",
       "      dtype='object')"
      ]
     },
     "execution_count": 18,
     "metadata": {},
     "output_type": "execute_result"
    }
   ],
   "source": [
    "train_df.columns"
   ]
  },
  {
   "cell_type": "code",
   "execution_count": null,
   "id": "44b4076b",
   "metadata": {
    "papermill": {
     "duration": 0.053208,
     "end_time": "2021-08-30T00:34:21.622324",
     "exception": false,
     "start_time": "2021-08-30T00:34:21.569116",
     "status": "completed"
    },
    "tags": []
   },
   "outputs": [],
   "source": []
  },
  {
   "cell_type": "code",
   "execution_count": null,
   "id": "e3fe9c18",
   "metadata": {
    "papermill": {
     "duration": 0.05224,
     "end_time": "2021-08-30T00:34:21.727429",
     "exception": false,
     "start_time": "2021-08-30T00:34:21.675189",
     "status": "completed"
    },
    "tags": []
   },
   "outputs": [],
   "source": []
  },
  {
   "cell_type": "code",
   "execution_count": null,
   "id": "b439e87e",
   "metadata": {
    "papermill": {
     "duration": 0.052767,
     "end_time": "2021-08-30T00:34:21.833409",
     "exception": false,
     "start_time": "2021-08-30T00:34:21.780642",
     "status": "completed"
    },
    "tags": []
   },
   "outputs": [],
   "source": []
  },
  {
   "cell_type": "markdown",
   "id": "89e1c1c9",
   "metadata": {
    "papermill": {
     "duration": 0.052768,
     "end_time": "2021-08-30T00:34:21.938785",
     "exception": false,
     "start_time": "2021-08-30T00:34:21.886017",
     "status": "completed"
    },
    "tags": []
   },
   "source": [
    "# Spliting Data"
   ]
  },
  {
   "cell_type": "code",
   "execution_count": 19,
   "id": "74605828",
   "metadata": {
    "execution": {
     "iopub.execute_input": "2021-08-30T00:34:22.049943Z",
     "iopub.status.busy": "2021-08-30T00:34:22.049472Z",
     "iopub.status.idle": "2021-08-30T00:34:22.114706Z",
     "shell.execute_reply": "2021-08-30T00:34:22.114168Z",
     "shell.execute_reply.started": "2021-08-30T00:33:37.506610Z"
    },
    "papermill": {
     "duration": 0.12304,
     "end_time": "2021-08-30T00:34:22.114863",
     "exception": false,
     "start_time": "2021-08-30T00:34:21.991823",
     "status": "completed"
    },
    "tags": []
   },
   "outputs": [],
   "source": [
    "features= train_df.drop(columns = ['y'])\n",
    "target = np.log1p(train_df['y'])\n",
    "\n",
    "from sklearn.model_selection import train_test_split, GridSearchCV\n",
    "X_train, X_val, y_train, y_val = train_test_split(features, target, test_size = 0.15, shuffle = True, random_state = 42)"
   ]
  },
  {
   "cell_type": "code",
   "execution_count": 20,
   "id": "736478fe",
   "metadata": {
    "execution": {
     "iopub.execute_input": "2021-08-30T00:34:22.224133Z",
     "iopub.status.busy": "2021-08-30T00:34:22.223627Z",
     "iopub.status.idle": "2021-08-30T00:34:22.227244Z",
     "shell.execute_reply": "2021-08-30T00:34:22.226851Z",
     "shell.execute_reply.started": "2021-08-30T00:33:37.578869Z"
    },
    "papermill": {
     "duration": 0.059292,
     "end_time": "2021-08-30T00:34:22.227346",
     "exception": false,
     "start_time": "2021-08-30T00:34:22.168054",
     "status": "completed"
    },
    "tags": []
   },
   "outputs": [],
   "source": [
    "# X_train_with_Y=train_df[train_df[\"day\"]<=15]\n",
    "# X_Valid_with_Y=train_df[train_df[\"day\"]>15]\n",
    "\n",
    "# X_train=X_train_with_Y.drop(columns=[\"Y\"])\n",
    "# X_Val=X_Valid_with_Y.drop(columns=[\"Y\"])\n",
    "\n",
    "# y_train=np.log1p(pd.DataFrame(X_train_with_Y[\"Y\"]))\n",
    "# y_val=np.log1p(pd.DataFrame(X_Valid_with_Y[\"Y\"]))"
   ]
  },
  {
   "cell_type": "markdown",
   "id": "764a7df7",
   "metadata": {
    "papermill": {
     "duration": 0.036012,
     "end_time": "2021-08-30T00:34:22.299542",
     "exception": false,
     "start_time": "2021-08-30T00:34:22.263530",
     "status": "completed"
    },
    "tags": []
   },
   "source": [
    "# Training Some Model"
   ]
  },
  {
   "cell_type": "code",
   "execution_count": null,
   "id": "88da63b4",
   "metadata": {
    "papermill": {
     "duration": 0.036399,
     "end_time": "2021-08-30T00:34:22.373086",
     "exception": false,
     "start_time": "2021-08-30T00:34:22.336687",
     "status": "completed"
    },
    "tags": []
   },
   "outputs": [],
   "source": []
  },
  {
   "cell_type": "code",
   "execution_count": 21,
   "id": "b06bc252",
   "metadata": {
    "execution": {
     "iopub.execute_input": "2021-08-30T00:34:22.451578Z",
     "iopub.status.busy": "2021-08-30T00:34:22.451045Z",
     "iopub.status.idle": "2021-08-30T00:34:26.542578Z",
     "shell.execute_reply": "2021-08-30T00:34:26.541958Z",
     "shell.execute_reply.started": "2021-08-30T00:33:37.584904Z"
    },
    "papermill": {
     "duration": 4.132964,
     "end_time": "2021-08-30T00:34:26.542725",
     "exception": false,
     "start_time": "2021-08-30T00:34:22.409761",
     "status": "completed"
    },
    "tags": []
   },
   "outputs": [
    {
     "data": {
      "text/plain": [
       "GradientBoostingRegressor(loss='huber', max_depth=5, max_leaf_nodes=60,\n",
       "                          n_estimators=200, random_state=0)"
      ]
     },
     "execution_count": 21,
     "metadata": {},
     "output_type": "execute_result"
    }
   ],
   "source": [
    "from sklearn.ensemble import GradientBoostingRegressor, RandomForestRegressor\n",
    "from sklearn.metrics import r2_score, mean_squared_log_error, make_scorer\n",
    "\n",
    "#GB_model=HistGradientBoostingRegressor(n_estimators=200,max_depth=5)\n",
    "GB_model = GradientBoostingRegressor(n_estimators = 200, max_depth =5,max_leaf_nodes=60,loss=\"huber\",random_state=0)\n",
    "GB_model.fit(X_train, y_train)"
   ]
  },
  {
   "cell_type": "code",
   "execution_count": 22,
   "id": "91f8d2bc",
   "metadata": {
    "execution": {
     "iopub.execute_input": "2021-08-30T00:34:26.653192Z",
     "iopub.status.busy": "2021-08-30T00:34:26.652540Z",
     "iopub.status.idle": "2021-08-30T00:34:27.256473Z",
     "shell.execute_reply": "2021-08-30T00:34:27.256066Z",
     "shell.execute_reply.started": "2021-08-30T00:33:41.984965Z"
    },
    "papermill": {
     "duration": 0.660957,
     "end_time": "2021-08-30T00:34:27.256594",
     "exception": false,
     "start_time": "2021-08-30T00:34:26.595637",
     "status": "completed"
    },
    "tags": []
   },
   "outputs": [
    {
     "data": {
      "text/plain": [
       "<BarContainer object of 39 artists>"
      ]
     },
     "execution_count": 22,
     "metadata": {},
     "output_type": "execute_result"
    },
    {
     "data": {
      "image/png": "[encoded data removed]",
      "text/plain": [
       "<Figure size 1440x1440 with 1 Axes>"
      ]
     },
     "metadata": {
      "needs_background": "light"
     },
     "output_type": "display_data"
    }
   ],
   "source": [
    "from sklearn.inspection import permutation_importance\n",
    "from matplotlib import pyplot as plt\n",
    "plt.rcParams[\"figure.figsize\"] = (20,20)\n",
    "plt.barh( X_train.columns,GB_model.feature_importances_)\n"
   ]
  },
  {
   "cell_type": "code",
   "execution_count": 23,
   "id": "c1701b55",
   "metadata": {
    "execution": {
     "iopub.execute_input": "2021-08-30T00:34:27.339690Z",
     "iopub.status.busy": "2021-08-30T00:34:27.339217Z",
     "iopub.status.idle": "2021-08-30T00:34:27.342039Z",
     "shell.execute_reply": "2021-08-30T00:34:27.342399Z",
     "shell.execute_reply.started": "2021-08-30T00:33:42.780664Z"
    },
    "papermill": {
     "duration": 0.047495,
     "end_time": "2021-08-30T00:34:27.342521",
     "exception": false,
     "start_time": "2021-08-30T00:34:27.295026",
     "status": "completed"
    },
    "tags": []
   },
   "outputs": [],
   "source": [
    "def print_metrics(y_train_pred, y_val_pred, model_name) :\n",
    "    print('============' + model_name + '============' )\n",
    "    print('R2_Score for Training Data Is : ', r2_score(np.expm1(y_train), np.expm1(y_train_pred)))\n",
    "    print('R2_Score For Validation Data Is : ', r2_score(np.expm1(y_val), np.expm1(y_val_pred)))\n",
    "    print('Square Root Of Mean Squared Log Error For Training Data : ', np.sqrt(mean_squared_log_error(np.round(np.expm1(y_train)), np.round(np.expm1(y_train_pred)))))\n",
    "    print('Square Root Of Mean Squared Log Error For Validation Data : ', np.sqrt(mean_squared_log_error(np.round(np.expm1(y_val)), np.round(np.expm1(y_val_pred)))))\n",
    "    print('\\n')"
   ]
  },
  {
   "cell_type": "code",
   "execution_count": 24,
   "id": "35d4d301",
   "metadata": {
    "execution": {
     "iopub.execute_input": "2021-08-30T00:34:27.425751Z",
     "iopub.status.busy": "2021-08-30T00:34:27.425292Z",
     "iopub.status.idle": "2021-08-30T00:34:27.466552Z",
     "shell.execute_reply": "2021-08-30T00:34:27.465490Z",
     "shell.execute_reply.started": "2021-08-30T00:33:42.788944Z"
    },
    "papermill": {
     "duration": 0.085827,
     "end_time": "2021-08-30T00:34:27.466712",
     "exception": false,
     "start_time": "2021-08-30T00:34:27.380885",
     "status": "completed"
    },
    "tags": []
   },
   "outputs": [
    {
     "name": "stdout",
     "output_type": "stream",
     "text": [
      "============Gradient Boosting Regressor============\n",
      "R2_Score for Training Data Is :  0.9422091221134676\n",
      "R2_Score For Validation Data Is :  0.884969361068376\n",
      "Square Root Of Mean Squared Log Error For Training Data :  0.28158054822021444\n",
      "Square Root Of Mean Squared Log Error For Validation Data :  0.37715495178150243\n",
      "\n",
      "\n"
     ]
    }
   ],
   "source": [
    "GB_train_pred = GB_model.predict(X_train)\n",
    "GB_val_pred = GB_model.predict(X_val)\n",
    "# Gradient Boosting Scores\n",
    "print_metrics(GB_train_pred, GB_val_pred, 'Gradient Boosting Regressor')"
   ]
  },
  {
   "cell_type": "code",
   "execution_count": null,
   "id": "5eaa6a18",
   "metadata": {
    "papermill": {
     "duration": 0.055942,
     "end_time": "2021-08-30T00:34:27.578753",
     "exception": false,
     "start_time": "2021-08-30T00:34:27.522811",
     "status": "completed"
    },
    "tags": []
   },
   "outputs": [],
   "source": []
  },
  {
   "cell_type": "code",
   "execution_count": null,
   "id": "5add24b2",
   "metadata": {
    "papermill": {
     "duration": 0.056073,
     "end_time": "2021-08-30T00:34:27.691789",
     "exception": false,
     "start_time": "2021-08-30T00:34:27.635716",
     "status": "completed"
    },
    "tags": []
   },
   "outputs": [],
   "source": []
  },
  {
   "cell_type": "code",
   "execution_count": 25,
   "id": "7c877041",
   "metadata": {
    "execution": {
     "iopub.execute_input": "2021-08-30T00:34:27.808428Z",
     "iopub.status.busy": "2021-08-30T00:34:27.806313Z",
     "iopub.status.idle": "2021-08-30T00:34:27.821983Z",
     "shell.execute_reply": "2021-08-30T00:34:27.821503Z",
     "shell.execute_reply.started": "2021-08-30T00:33:42.845865Z"
    },
    "papermill": {
     "duration": 0.074451,
     "end_time": "2021-08-30T00:34:27.822094",
     "exception": false,
     "start_time": "2021-08-30T00:34:27.747643",
     "status": "completed"
    },
    "tags": []
   },
   "outputs": [],
   "source": [
    "\n",
    "y_test_1 = GB_model.predict(X_test)\n",
    "\n",
    "test_df['y'] = np.round(np.expm1(y_test_1))"
   ]
  },
  {
   "cell_type": "code",
   "execution_count": 26,
   "id": "1acd6f86",
   "metadata": {
    "execution": {
     "iopub.execute_input": "2021-08-30T00:34:27.904096Z",
     "iopub.status.busy": "2021-08-30T00:34:27.903613Z",
     "iopub.status.idle": "2021-08-30T00:34:27.915256Z",
     "shell.execute_reply": "2021-08-30T00:34:27.914889Z",
     "shell.execute_reply.started": "2021-08-30T00:33:42.870416Z"
    },
    "papermill": {
     "duration": 0.054809,
     "end_time": "2021-08-30T00:34:27.915357",
     "exception": false,
     "start_time": "2021-08-30T00:34:27.860548",
     "status": "completed"
    },
    "tags": []
   },
   "outputs": [],
   "source": [
    "test_df[['ID', 'y']].to_csv('submission.csv', index = False)"
   ]
  },
  {
   "cell_type": "code",
   "execution_count": null,
   "id": "ea9d9e8b",
   "metadata": {
    "papermill": {
     "duration": 0.038922,
     "end_time": "2021-08-30T00:34:27.992733",
     "exception": false,
     "start_time": "2021-08-30T00:34:27.953811",
     "status": "completed"
    },
    "tags": []
   },
   "outputs": [],
   "source": []
  },
  {
   "cell_type": "code",
   "execution_count": null,
   "id": "bafb52d8",
   "metadata": {
    "papermill": {
     "duration": 0.039458,
     "end_time": "2021-08-30T00:34:28.071890",
     "exception": false,
     "start_time": "2021-08-30T00:34:28.032432",
     "status": "completed"
    },
    "tags": []
   },
   "outputs": [],
   "source": []
  },
  {
   "cell_type": "code",
   "execution_count": null,
   "id": "07088eaa",
   "metadata": {
    "papermill": {
     "duration": 0.039419,
     "end_time": "2021-08-30T00:34:28.151055",
     "exception": false,
     "start_time": "2021-08-30T00:34:28.111636",
     "status": "completed"
    },
    "tags": []
   },
   "outputs": [],
   "source": []
  },
  {
   "cell_type": "code",
   "execution_count": null,
   "id": "e9886974",
   "metadata": {
    "papermill": {
     "duration": 0.038563,
     "end_time": "2021-08-30T00:34:28.228487",
     "exception": false,
     "start_time": "2021-08-30T00:34:28.189924",
     "status": "completed"
    },
    "tags": []
   },
   "outputs": [],
   "source": []
  },
  {
   "cell_type": "code",
   "execution_count": null,
   "id": "4edb5f25",
   "metadata": {
    "papermill": {
     "duration": 0.03845,
     "end_time": "2021-08-30T00:34:28.306652",
     "exception": false,
     "start_time": "2021-08-30T00:34:28.268202",
     "status": "completed"
    },
    "tags": []
   },
   "outputs": [],
   "source": []
  }
 ],
 "metadata": {
  "kernelspec": {
   "display_name": "Python 3",
   "language": "python",
   "name": "python3"
  },
  "language_info": {
   "codemirror_mode": {
    "name": "ipython",
    "version": 3
   },
   "file_extension": ".py",
   "mimetype": "text/x-python",
   "name": "python",
   "nbconvert_exporter": "python",
   "pygments_lexer": "ipython3",
   "version": "3.7.10"
  },
  "papermill": {
   "default_parameters": {},
   "duration": 27.858469,
   "end_time": "2021-08-30T00:34:29.902380",
   "environment_variables": {},
   "exception": null,
   "input_path": "__notebook__.ipynb",
   "output_path": "__notebook__.ipynb",
   "parameters": {},
   "start_time": "2021-08-30T00:34:02.043911",
   "version": "2.3.3"
  }
 },
 "nbformat": 4,
 "nbformat_minor": 5
}
